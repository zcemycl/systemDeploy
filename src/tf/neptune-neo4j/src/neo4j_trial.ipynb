{
 "cells": [
  {
   "cell_type": "code",
   "execution_count": 4,
   "id": "c1d76590",
   "metadata": {},
   "outputs": [],
   "source": [
    "from neo4j import GraphDatabase"
   ]
  },
  {
   "cell_type": "code",
   "execution_count": 13,
   "id": "5da0215b",
   "metadata": {},
   "outputs": [],
   "source": [
    "uri = \"tf-20240301145922093300000002.cwjo43tuii7k.eu-west-2.neptune.amazonaws.com:8182\"\n",
    "user = 'neo4j'\n",
    "password = 'password'"
   ]
  },
  {
   "cell_type": "code",
   "execution_count": 16,
   "id": "96d2e400",
   "metadata": {},
   "outputs": [],
   "source": [
    "driver = GraphDatabase.driver(f\"bolt://{uri}\", auth=(user, password))\n",
    "# summary = driver.execute_query(\"MATCH (n:DocSetStats) RETURN n LIMIT 25\")"
   ]
  },
  {
   "cell_type": "code",
   "execution_count": null,
   "id": "3fb50658",
   "metadata": {},
   "outputs": [],
   "source": []
  }
 ],
 "metadata": {
  "kernelspec": {
   "display_name": "Python 3 (ipykernel)",
   "language": "python",
   "name": "python3"
  },
  "language_info": {
   "codemirror_mode": {
    "name": "ipython",
    "version": 3
   },
   "file_extension": ".py",
   "mimetype": "text/x-python",
   "name": "python",
   "nbconvert_exporter": "python",
   "pygments_lexer": "ipython3",
   "version": "3.10.10"
  }
 },
 "nbformat": 4,
 "nbformat_minor": 5
}
