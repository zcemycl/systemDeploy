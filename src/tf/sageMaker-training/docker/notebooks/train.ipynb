{
 "cells": [
  {
   "cell_type": "code",
   "execution_count": 1,
   "id": "3ece67fb-5c6c-4dae-b7fa-91b7a61f61a0",
   "metadata": {
    "tags": []
   },
   "outputs": [
    {
     "name": "stderr",
     "output_type": "stream",
     "text": [
      "/home/ec2-user/anaconda3/envs/python3/lib/python3.10/site-packages/pandas/core/computation/expressions.py:21: UserWarning: Pandas requires version '2.8.0' or newer of 'numexpr' (version '2.7.3' currently installed).\n",
      "  from pandas.core.computation.check import NUMEXPR_INSTALLED\n"
     ]
    },
    {
     "name": "stdout",
     "output_type": "stream",
     "text": [
      "sagemaker.config INFO - Not applying SDK defaults from location: /etc/xdg/sagemaker/config.yaml\n",
      "sagemaker.config INFO - Not applying SDK defaults from location: /home/ec2-user/.config/sagemaker/config.yaml\n"
     ]
    }
   ],
   "source": [
    "import time\n",
    "\n",
    "from sagemaker.estimator import Estimator\n",
    "\n",
    "script_s3_bucket = \"sagemaker-training-script-experiment\n",
    "# edit role arn\n",
    "sagemaker_role_arn = \"arn:aws:iam::322725876573:role/terraform-20240131154503591000000001\""
   ]
  },
  {
   "cell_type": "code",
   "execution_count": 2,
   "id": "9ab51b77-9425-4447-a888-92d2721fbd5a",
   "metadata": {
    "tags": []
   },
   "outputs": [
    {
     "name": "stderr",
     "output_type": "stream",
     "text": [
      "train_instance_count has been renamed in sagemaker>=2.\n",
      "See: https://sagemaker.readthedocs.io/en/stable/v2.html for details.\n",
      "train_instance_type has been renamed in sagemaker>=2.\n",
      "See: https://sagemaker.readthedocs.io/en/stable/v2.html for details.\n",
      "INFO:sagemaker:Creating training-job with name: leo-try-training-1706746581-2024-02-01-00-16-22-163\n"
     ]
    },
    {
     "name": "stdout",
     "output_type": "stream",
     "text": [
      "Training job initialisation takes: 0.01664819320042928 min\n"
     ]
    }
   ],
   "source": [
    "start_time = time.time()\n",
    "est = Estimator(\n",
    "    \"322725876573.dkr.ecr.eu-west-2.amazonaws.com/sagemaker_training_docker_invoke:latest\",\n",
    "    sagemaker_role_arn,\n",
    "    train_instance_count=1,\n",
    "    # train_instance_type=\"local\",  # use local mode\n",
    "    train_instance_type=\"ml.c5.xlarge\",\n",
    "    output_path=f\"s3://{script_s3_bucket}/model\",\n",
    "    base_job_name=f\"leo-try-training-{int(time.time())}\",\n",
    ")\n",
    "est.set_hyperparameters(hp1=\"value1\", hp2=300, hp3=0.001)\n",
    "est.fit(f\"s3://{script_s3_bucket}/data\", wait=False)\n",
    "end_time = time.time()\n",
    "print(f\"Training job initialisation takes: {(end_time-start_time)/60} min\")"
   ]
  },
  {
   "cell_type": "code",
   "execution_count": null,
   "id": "8d6676aa-f6a0-4fef-bd7c-209101aafd21",
   "metadata": {},
   "outputs": [],
   "source": []
  }
 ],
 "metadata": {
  "kernelspec": {
   "display_name": "conda_python3",
   "language": "python",
   "name": "conda_python3"
  },
  "language_info": {
   "codemirror_mode": {
    "name": "ipython",
    "version": 3
   },
   "file_extension": ".py",
   "mimetype": "text/x-python",
   "name": "python",
   "nbconvert_exporter": "python",
   "pygments_lexer": "ipython3",
   "version": "3.10.13"
  }
 },
 "nbformat": 4,
 "nbformat_minor": 5
}
