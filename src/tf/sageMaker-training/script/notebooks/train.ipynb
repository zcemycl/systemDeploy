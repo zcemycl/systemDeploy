{
 "cells": [
  {
   "cell_type": "code",
   "execution_count": 1,
   "id": "59649bdd-111b-4f12-9e67-4c5efd0b3a70",
   "metadata": {
    "tags": []
   },
   "outputs": [
    {
     "name": "stdout",
     "output_type": "stream",
     "text": [
      "sagemaker.config INFO - Not applying SDK defaults from location: /etc/xdg/sagemaker/config.yaml\n",
      "sagemaker.config INFO - Not applying SDK defaults from location: /home/ec2-user/.config/sagemaker/config.yaml\n"
     ]
    },
    {
     "data": {
      "text/plain": [
       "0"
      ]
     },
     "execution_count": 1,
     "metadata": {},
     "output_type": "execute_result"
    }
   ],
   "source": [
    "import os\n",
    "import zipfile\n",
    "import time\n",
    "\n",
    "import boto3\n",
    "from sagemaker.tensorflow import TensorFlow\n",
    "\n",
    "s3 = boto3.client('s3')\n",
    "sm = boto3.client('sagemaker')\n",
    "\n",
    "script_s3_bucket = \"sagemaker-training-script-experiment\"\n",
    "script_s3_key = \"train.zip\"\n",
    "sagemaker_role_arn = \"arn:aws:iam::322725876573:role/terraform-20240129003118010100000001\"\n",
    "s3.download_file(script_s3_bucket, script_s3_key, f\"/tmp/{script_s3_key}\")\n",
    "with zipfile.ZipFile(f\"/tmp/{script_s3_key}\", 'r') as f:\n",
    "    f.extractall('/tmp/')\n",
    "os.system(f\"rm /tmp/{script_s3_key}\")\n",
    "os.system(\"chmod +x /tmp/train.py\")\n",
    "os.system(\"mv /tmp/train.py .\")"
   ]
  },
  {
   "cell_type": "code",
   "execution_count": 2,
   "id": "7d7f8752-5cd2-40f6-82a2-a9af62e24b8a",
   "metadata": {
    "tags": []
   },
   "outputs": [
    {
     "name": "stderr",
     "output_type": "stream",
     "text": [
      "INFO:sagemaker.image_uris:image_uri is not presented, retrieving image_uri based on instance_type, framework etc.\n",
      "INFO:sagemaker:Creating training-job with name: leo-try-training-1706624759-2024-01-30-14-25-59-602\n"
     ]
    },
    {
     "name": "stdout",
     "output_type": "stream",
     "text": [
      "Training job initialisation takes: 0.011827623844146729 min\n"
     ]
    }
   ],
   "source": [
    "start_time = time.time()\n",
    "estimator = TensorFlow(\n",
    "    base_job_name=f\"leo-try-training-{int(time.time())}\",\n",
    "    entry_point=\"train.py\",\n",
    "    # source_dir=\"/home/ec2-user/SageMaker\",\n",
    "    role=sagemaker_role_arn,\n",
    "    instance_count=1,\n",
    "    instance_type=\"ml.c5.xlarge\",\n",
    "    hyperparameters={\"epochs\": 10},\n",
    "    framework_version=\"2.13.0\",\n",
    "    py_version=\"py310\",\n",
    "    output_path=\"s3://sagemaker-training-script-experiment/model\",\n",
    "    # image_name=\"763104351884.dkr.ecr.eu-west-2.amazonaws.com/tensorflow-training:2.13.0-cpu-py310-ubuntu20.04-ec2\",\n",
    "    script_mode=True,\n",
    "    input_mode=\"File\"\n",
    "    # distribution={\"parameter_server\": {\"enabled\": True}},\n",
    ")\n",
    "estimator.fit(\"s3://sagemaker-training-script-experiment/data\",\n",
    "              wait=False)\n",
    "end_time = time.time()\n",
    "print(f\"Training job initialisation takes: {(end_time-start_time)/60} min\")"
   ]
  },
  {
   "cell_type": "code",
   "execution_count": null,
   "id": "32048e3f-e673-4017-bd91-12af00c8297a",
   "metadata": {},
   "outputs": [],
   "source": []
  }
 ],
 "metadata": {
  "kernelspec": {
   "display_name": "conda_tensorflow2_p310",
   "language": "python",
   "name": "conda_tensorflow2_p310"
  },
  "language_info": {
   "codemirror_mode": {
    "name": "ipython",
    "version": 3
   },
   "file_extension": ".py",
   "mimetype": "text/x-python",
   "name": "python",
   "nbconvert_exporter": "python",
   "pygments_lexer": "ipython3",
   "version": "3.10.13"
  }
 },
 "nbformat": 4,
 "nbformat_minor": 5
}
